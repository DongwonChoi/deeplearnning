{
 "cells": [
  {
   "cell_type": "markdown",
   "metadata": {},
   "source": [
    "### Lab 8\n",
    "#### Shape, Rank, Axis\n",
    "#### 원소 갯수, 차원, 축 \n",
    "#### Axis는 바깥부터 0부터 시작 가장 안에있는 것은 -1\n",
    "#### Broadcasting - shape이 다르더라도 연산을 할 수 있도록 해줌\n",
    "#### 사용에 주의\n",
    "#### Reduce - 설정된 축을 기준으로 연산\n",
    "#### Argmax - 설정된 축 기준으로 max 구함\n",
    "#### Reshape - 원하는 형태를 주어주면 array로 합쳐줌"
   ]
  },
  {
   "cell_type": "code",
   "execution_count": null,
   "metadata": {},
   "outputs": [],
   "source": []
  }
 ],
 "metadata": {
  "kernelspec": {
   "display_name": "Python 3",
   "language": "python",
   "name": "python3"
  },
  "language_info": {
   "codemirror_mode": {
    "name": "ipython",
    "version": 3
   },
   "file_extension": ".py",
   "mimetype": "text/x-python",
   "name": "python",
   "nbconvert_exporter": "python",
   "pygments_lexer": "ipython3",
   "version": "3.6.4"
  }
 },
 "nbformat": 4,
 "nbformat_minor": 2
}
